{
  "nbformat": 4,
  "nbformat_minor": 0,
  "metadata": {
    "colab": {
      "name": "AudioClassifier.ipynb",
      "provenance": [],
      "include_colab_link": true
    },
    "kernelspec": {
      "name": "python3",
      "display_name": "Python 3"
    },
    "language_info": {
      "name": "python"
    }
  },
  "cells": [
    {
      "cell_type": "markdown",
      "metadata": {
        "id": "view-in-github",
        "colab_type": "text"
      },
      "source": [
        "<a href=\"https://colab.research.google.com/github/vitorpohlenz/AudioAnalisysML/blob/segmentation/AudioClassifier.ipynb\" target=\"_parent\"><img src=\"https://colab.research.google.com/assets/colab-badge.svg\" alt=\"Open In Colab\"/></a>"
      ]
    },
    {
      "cell_type": "markdown",
      "metadata": {
        "id": "bBUphbEFcIxB"
      },
      "source": [
        "# Clone and install from github.\n",
        "\n",
        "Cloning repository to have data in local folder."
      ]
    },
    {
      "cell_type": "code",
      "metadata": {
        "colab": {
          "base_uri": "https://localhost:8080/"
        },
        "id": "ksDdu-9bbGWt",
        "outputId": "616e110d-48c0-46c1-ce10-4a23cffe7593"
      },
      "source": [
        "!git clone https://github.com/vitorpohlenz/AudioAnalisysML.git"
      ],
      "execution_count": 1,
      "outputs": [
        {
          "output_type": "stream",
          "text": [
            "Cloning into 'AudioAnalisysML'...\n",
            "remote: Enumerating objects: 18, done.\u001b[K\n",
            "remote: Counting objects: 100% (18/18), done.\u001b[K\n",
            "remote: Compressing objects: 100% (15/15), done.\u001b[K\n",
            "remote: Total 18 (delta 6), reused 0 (delta 0), pack-reused 0\u001b[K\n",
            "Unpacking objects: 100% (18/18), done.\n"
          ],
          "name": "stdout"
        }
      ]
    },
    {
      "cell_type": "markdown",
      "metadata": {
        "id": "jKdkJkWFl5ez"
      },
      "source": [
        "[pyAudioAnalysis](https://github.com/tyiannak/pyAudioAnalysis)"
      ]
    },
    {
      "cell_type": "code",
      "metadata": {
        "id": "mmSi-Akel-RS",
        "outputId": "8aeeed49-4f56-4acf-840c-63f060812062",
        "colab": {
          "base_uri": "https://localhost:8080/",
          "height": 1000
        }
      },
      "source": [
        "!git clone https://github.com/tyiannak/pyAudioAnalysis.git\n",
        "!pip install -r pyAudioAnalysis/requirements.txt\n",
        "!pip install -e pyAudioAnalysis"
      ],
      "execution_count": 2,
      "outputs": [
        {
          "output_type": "stream",
          "text": [
            "Cloning into 'pyAudioAnalysis'...\n",
            "remote: Enumerating objects: 2575, done.\u001b[K\n",
            "remote: Counting objects: 100% (41/41), done.\u001b[K\n",
            "remote: Compressing objects: 100% (37/37), done.\u001b[K\n",
            "remote: Total 2575 (delta 18), reused 8 (delta 3), pack-reused 2534\u001b[K\n",
            "Receiving objects: 100% (2575/2575), 156.05 MiB | 25.55 MiB/s, done.\n",
            "Resolving deltas: 100% (1579/1579), done.\n",
            "Collecting matplotlib==3.1.2\n",
            "  Downloading matplotlib-3.1.2-cp37-cp37m-manylinux1_x86_64.whl (13.1 MB)\n",
            "\u001b[K     |████████████████████████████████| 13.1 MB 44 kB/s \n",
            "\u001b[?25hCollecting simplejson==3.16.0\n",
            "  Downloading simplejson-3.16.0.tar.gz (81 kB)\n",
            "\u001b[K     |████████████████████████████████| 81 kB 10.8 MB/s \n",
            "\u001b[?25hRequirement already satisfied: scipy==1.4.1 in /usr/local/lib/python3.7/dist-packages (from -r pyAudioAnalysis/requirements.txt (line 3)) (1.4.1)\n",
            "Collecting numpy==1.18.1\n",
            "  Downloading numpy-1.18.1-cp37-cp37m-manylinux1_x86_64.whl (20.1 MB)\n",
            "\u001b[K     |████████████████████████████████| 20.1 MB 1.5 MB/s \n",
            "\u001b[?25hCollecting hmmlearn==0.2.2\n",
            "  Downloading hmmlearn-0.2.2.tar.gz (146 kB)\n",
            "\u001b[K     |████████████████████████████████| 146 kB 59.3 MB/s \n",
            "\u001b[?25hCollecting eyeD3==0.9.5\n",
            "  Downloading eyeD3-0.9.5-py2.py3-none-any.whl (145 kB)\n",
            "\u001b[K     |████████████████████████████████| 145 kB 45.1 MB/s \n",
            "\u001b[?25hCollecting pydub==0.24.0\n",
            "  Downloading pydub-0.24.0-py2.py3-none-any.whl (30 kB)\n",
            "Collecting scikit_learn==0.23.2\n",
            "  Downloading scikit_learn-0.23.2-cp37-cp37m-manylinux1_x86_64.whl (6.8 MB)\n",
            "\u001b[K     |████████████████████████████████| 6.8 MB 38.8 MB/s \n",
            "\u001b[?25hCollecting tqdm==4.46.0\n",
            "  Downloading tqdm-4.46.0-py2.py3-none-any.whl (63 kB)\n",
            "\u001b[K     |████████████████████████████████| 63 kB 2.7 MB/s \n",
            "\u001b[?25hCollecting plotly==4.1.1\n",
            "  Downloading plotly-4.1.1-py2.py3-none-any.whl (7.1 MB)\n",
            "\u001b[K     |████████████████████████████████| 7.1 MB 54.2 MB/s \n",
            "\u001b[?25hRequirement already satisfied: cycler>=0.10 in /usr/local/lib/python3.7/dist-packages (from matplotlib==3.1.2->-r pyAudioAnalysis/requirements.txt (line 1)) (0.10.0)\n",
            "Requirement already satisfied: kiwisolver>=1.0.1 in /usr/local/lib/python3.7/dist-packages (from matplotlib==3.1.2->-r pyAudioAnalysis/requirements.txt (line 1)) (1.3.1)\n",
            "Requirement already satisfied: pyparsing!=2.0.4,!=2.1.2,!=2.1.6,>=2.0.1 in /usr/local/lib/python3.7/dist-packages (from matplotlib==3.1.2->-r pyAudioAnalysis/requirements.txt (line 1)) (2.4.7)\n",
            "Requirement already satisfied: python-dateutil>=2.1 in /usr/local/lib/python3.7/dist-packages (from matplotlib==3.1.2->-r pyAudioAnalysis/requirements.txt (line 1)) (2.8.1)\n",
            "Collecting filetype\n",
            "  Downloading filetype-1.0.7-py2.py3-none-any.whl (15 kB)\n",
            "Collecting deprecation\n",
            "  Downloading deprecation-2.1.0-py2.py3-none-any.whl (11 kB)\n",
            "Collecting threadpoolctl>=2.0.0\n",
            "  Downloading threadpoolctl-2.2.0-py3-none-any.whl (12 kB)\n",
            "Requirement already satisfied: joblib>=0.11 in /usr/local/lib/python3.7/dist-packages (from scikit_learn==0.23.2->-r pyAudioAnalysis/requirements.txt (line 8)) (1.0.1)\n",
            "Requirement already satisfied: six in /usr/local/lib/python3.7/dist-packages (from plotly==4.1.1->-r pyAudioAnalysis/requirements.txt (line 10)) (1.15.0)\n",
            "Requirement already satisfied: retrying>=1.3.3 in /usr/local/lib/python3.7/dist-packages (from plotly==4.1.1->-r pyAudioAnalysis/requirements.txt (line 10)) (1.3.3)\n",
            "Requirement already satisfied: packaging in /usr/local/lib/python3.7/dist-packages (from deprecation->eyeD3==0.9.5->-r pyAudioAnalysis/requirements.txt (line 6)) (21.0)\n",
            "Building wheels for collected packages: simplejson, hmmlearn\n",
            "  Building wheel for simplejson (setup.py) ... \u001b[?25l\u001b[?25hdone\n",
            "  Created wheel for simplejson: filename=simplejson-3.16.0-cp37-cp37m-linux_x86_64.whl size=114890 sha256=64701771ea9b4013215e5e9409e4bf39d76b179b50721dd66c5887afde523efc\n",
            "  Stored in directory: /root/.cache/pip/wheels/00/6f/29/109ee3b85a9f9861d4294b05e4597363d5ad3c9dfaccc78787\n",
            "  Building wheel for hmmlearn (setup.py) ... \u001b[?25l\u001b[?25hdone\n",
            "  Created wheel for hmmlearn: filename=hmmlearn-0.2.2-cp37-cp37m-linux_x86_64.whl size=329786 sha256=81ed4fe05a3d859c9fee9c5566ca5d66f1f8a174a2e2c451f510df30f31eadfc\n",
            "  Stored in directory: /root/.cache/pip/wheels/66/1c/c5/d5572261032ef106444475a9921466143832e4943623234be4\n",
            "Successfully built simplejson hmmlearn\n",
            "Installing collected packages: numpy, threadpoolctl, scikit-learn, filetype, deprecation, tqdm, simplejson, pydub, plotly, matplotlib, hmmlearn, eyeD3\n",
            "  Attempting uninstall: numpy\n",
            "    Found existing installation: numpy 1.19.5\n",
            "    Uninstalling numpy-1.19.5:\n",
            "      Successfully uninstalled numpy-1.19.5\n",
            "  Attempting uninstall: scikit-learn\n",
            "    Found existing installation: scikit-learn 0.22.2.post1\n",
            "    Uninstalling scikit-learn-0.22.2.post1:\n",
            "      Successfully uninstalled scikit-learn-0.22.2.post1\n",
            "  Attempting uninstall: tqdm\n",
            "    Found existing installation: tqdm 4.41.1\n",
            "    Uninstalling tqdm-4.41.1:\n",
            "      Successfully uninstalled tqdm-4.41.1\n",
            "  Attempting uninstall: plotly\n",
            "    Found existing installation: plotly 4.4.1\n",
            "    Uninstalling plotly-4.4.1:\n",
            "      Successfully uninstalled plotly-4.4.1\n",
            "  Attempting uninstall: matplotlib\n",
            "    Found existing installation: matplotlib 3.2.2\n",
            "    Uninstalling matplotlib-3.2.2:\n",
            "      Successfully uninstalled matplotlib-3.2.2\n",
            "\u001b[31mERROR: pip's dependency resolver does not currently take into account all the packages that are installed. This behaviour is the source of the following dependency conflicts.\n",
            "tensorflow 2.5.0 requires numpy~=1.19.2, but you have numpy 1.18.1 which is incompatible.\n",
            "kapre 0.3.5 requires numpy>=1.18.5, but you have numpy 1.18.1 which is incompatible.\n",
            "datascience 0.10.6 requires folium==0.2.1, but you have folium 0.8.3 which is incompatible.\n",
            "albumentations 0.1.12 requires imgaug<0.2.7,>=0.2.5, but you have imgaug 0.2.9 which is incompatible.\u001b[0m\n",
            "Successfully installed deprecation-2.1.0 eyeD3-0.9.5 filetype-1.0.7 hmmlearn-0.2.2 matplotlib-3.1.2 numpy-1.18.1 plotly-4.1.1 pydub-0.24.0 scikit-learn-0.23.2 simplejson-3.16.0 threadpoolctl-2.2.0 tqdm-4.46.0\n"
          ],
          "name": "stdout"
        },
        {
          "output_type": "display_data",
          "data": {
            "application/vnd.colab-display-data+json": {
              "pip_warning": {
                "packages": [
                  "matplotlib",
                  "mpl_toolkits",
                  "numpy"
                ]
              }
            }
          },
          "metadata": {
            "tags": []
          }
        },
        {
          "output_type": "stream",
          "text": [
            "Obtaining file:///content/pyAudioAnalysis\n",
            "Requirement already satisfied: matplotlib==3.1.2 in /usr/local/lib/python3.7/dist-packages (from pyAudioAnalysis==0.3.7) (3.1.2)\n",
            "Requirement already satisfied: simplejson==3.16.0 in /usr/local/lib/python3.7/dist-packages (from pyAudioAnalysis==0.3.7) (3.16.0)\n",
            "Requirement already satisfied: scipy==1.4.1 in /usr/local/lib/python3.7/dist-packages (from pyAudioAnalysis==0.3.7) (1.4.1)\n",
            "Requirement already satisfied: numpy==1.18.1 in /usr/local/lib/python3.7/dist-packages (from pyAudioAnalysis==0.3.7) (1.18.1)\n",
            "Requirement already satisfied: hmmlearn==0.2.2 in /usr/local/lib/python3.7/dist-packages (from pyAudioAnalysis==0.3.7) (0.2.2)\n",
            "Requirement already satisfied: eyeD3==0.9.5 in /usr/local/lib/python3.7/dist-packages (from pyAudioAnalysis==0.3.7) (0.9.5)\n",
            "Requirement already satisfied: pydub==0.24.0 in /usr/local/lib/python3.7/dist-packages (from pyAudioAnalysis==0.3.7) (0.24.0)\n",
            "Requirement already satisfied: scikit_learn==0.23.2 in /usr/local/lib/python3.7/dist-packages (from pyAudioAnalysis==0.3.7) (0.23.2)\n",
            "Requirement already satisfied: tqdm==4.46.0 in /usr/local/lib/python3.7/dist-packages (from pyAudioAnalysis==0.3.7) (4.46.0)\n",
            "Requirement already satisfied: plotly==4.1.1 in /usr/local/lib/python3.7/dist-packages (from pyAudioAnalysis==0.3.7) (4.1.1)\n",
            "Requirement already satisfied: deprecation in /usr/local/lib/python3.7/dist-packages (from eyeD3==0.9.5->pyAudioAnalysis==0.3.7) (2.1.0)\n",
            "Requirement already satisfied: filetype in /usr/local/lib/python3.7/dist-packages (from eyeD3==0.9.5->pyAudioAnalysis==0.3.7) (1.0.7)\n",
            "Requirement already satisfied: python-dateutil>=2.1 in /usr/local/lib/python3.7/dist-packages (from matplotlib==3.1.2->pyAudioAnalysis==0.3.7) (2.8.1)\n",
            "Requirement already satisfied: kiwisolver>=1.0.1 in /usr/local/lib/python3.7/dist-packages (from matplotlib==3.1.2->pyAudioAnalysis==0.3.7) (1.3.1)\n",
            "Requirement already satisfied: pyparsing!=2.0.4,!=2.1.2,!=2.1.6,>=2.0.1 in /usr/local/lib/python3.7/dist-packages (from matplotlib==3.1.2->pyAudioAnalysis==0.3.7) (2.4.7)\n",
            "Requirement already satisfied: cycler>=0.10 in /usr/local/lib/python3.7/dist-packages (from matplotlib==3.1.2->pyAudioAnalysis==0.3.7) (0.10.0)\n",
            "Requirement already satisfied: six in /usr/local/lib/python3.7/dist-packages (from plotly==4.1.1->pyAudioAnalysis==0.3.7) (1.15.0)\n",
            "Requirement already satisfied: retrying>=1.3.3 in /usr/local/lib/python3.7/dist-packages (from plotly==4.1.1->pyAudioAnalysis==0.3.7) (1.3.3)\n",
            "Requirement already satisfied: joblib>=0.11 in /usr/local/lib/python3.7/dist-packages (from scikit_learn==0.23.2->pyAudioAnalysis==0.3.7) (1.0.1)\n",
            "Requirement already satisfied: threadpoolctl>=2.0.0 in /usr/local/lib/python3.7/dist-packages (from scikit_learn==0.23.2->pyAudioAnalysis==0.3.7) (2.2.0)\n",
            "Requirement already satisfied: packaging in /usr/local/lib/python3.7/dist-packages (from deprecation->eyeD3==0.9.5->pyAudioAnalysis==0.3.7) (21.0)\n",
            "Installing collected packages: pyAudioAnalysis\n",
            "  Running setup.py develop for pyAudioAnalysis\n",
            "Successfully installed pyAudioAnalysis-0.3.7\n"
          ],
          "name": "stdout"
        }
      ]
    },
    {
      "cell_type": "markdown",
      "metadata": {
        "id": "hHucCh5BccTH"
      },
      "source": [
        "# Libraries"
      ]
    },
    {
      "cell_type": "code",
      "metadata": {
        "id": "3swLCvxgcdJg"
      },
      "source": [
        "# Common libraries\n",
        "import numpy as np\n",
        "import pandas as pd\n",
        "import seaborn as sns\n",
        "import scipy.stats as ss\n",
        "import os\n",
        "\n",
        "# Audio libraries\n",
        "# import pyAudioAnalysis\n",
        "from pyAudioAnalysis import audioSegmentation\n",
        "from pyAudioAnalysis import audioBasicIO as aIO\n",
        "\n",
        "# Signal processing libraries\n",
        "from scipy.signal import find_peaks\n",
        "\n",
        "# Set seed\n",
        "seed = 9\n",
        "np.random.seed(seed)"
      ],
      "execution_count": 1,
      "outputs": []
    },
    {
      "cell_type": "markdown",
      "metadata": {
        "id": "kZL4gF_6r_2a"
      },
      "source": [
        "Dark theme better visualization."
      ]
    },
    {
      "cell_type": "code",
      "metadata": {
        "id": "d7IZ8QI6sGNk"
      },
      "source": [
        "# Plot's Layout\n",
        "%matplotlib inline\n",
        "import matplotlib as mpl\n",
        "mpl.rc('axes', labelsize=14)\n",
        "mpl.rc('xtick', labelsize=12)\n",
        "mpl.rc('ytick', labelsize=12)\n",
        "mpl.rc('figure', figsize = [12,8])\n",
        "\n",
        "import matplotlib.pyplot as plt\n",
        "\n",
        "plt.style.use('ggplot')"
      ],
      "execution_count": 2,
      "outputs": []
    },
    {
      "cell_type": "markdown",
      "metadata": {
        "id": "b651p8g_x4yL"
      },
      "source": [
        "\n",
        "# Functions"
      ]
    },
    {
      "cell_type": "code",
      "metadata": {
        "id": "q8fWCTKfx77M"
      },
      "source": [
        "def RMS(array):\n",
        "    \"\"\"\n",
        "    RMS value from 1D array.\n",
        "\n",
        "    Parameters\n",
        "    ----------\n",
        "    array : numpy.array (1D numeric)\n",
        "        Array to get rms value.\n",
        "\n",
        "    Returns\n",
        "    -------\n",
        "    rms : float\n",
        "        Valor RMS.\n",
        "\n",
        "    \"\"\"\n",
        "    rms = np.sqrt(np.mean(np.power(array,2)))\n",
        "    return rms"
      ],
      "execution_count": 3,
      "outputs": []
    },
    {
      "cell_type": "markdown",
      "metadata": {
        "id": "ckRrQ41KuMXD"
      },
      "source": [
        "# Audio Segmentation"
      ]
    },
    {
      "cell_type": "code",
      "metadata": {
        "id": "x0SxJZvxlcQi"
      },
      "source": [
        "wavPath = 'AudioAnalisysML/data/aluminumBaseballBatPings.wav'"
      ],
      "execution_count": 4,
      "outputs": []
    },
    {
      "cell_type": "code",
      "metadata": {
        "colab": {
          "base_uri": "https://localhost:8080/"
        },
        "id": "00euzSSkqxz7",
        "outputId": "2b74d322-34d6-4a59-eb5d-5427ee332819"
      },
      "source": [
        "# sample frequency, samples(quantizied)\n",
        "[fs, x] = aIO.read_audio_file(wavPath)\n",
        "RMS(x)"
      ],
      "execution_count": 5,
      "outputs": [
        {
          "output_type": "execute_result",
          "data": {
            "text/plain": [
              "68.01532232106516"
            ]
          },
          "metadata": {
            "tags": []
          },
          "execution_count": 5
        }
      ]
    },
    {
      "cell_type": "code",
      "metadata": {
        "id": "7XV1EvoWsapW"
      },
      "source": [
        "# audioSegmentation.silence_removal(signal=x, \n",
        "#                                   sampling_rate=fs, st_win= 0.020,st_step =  0.020, smooth_window = 1.0, weight = 0.3, plot = True)"
      ],
      "execution_count": 6,
      "outputs": []
    },
    {
      "cell_type": "code",
      "metadata": {
        "colab": {
          "base_uri": "https://localhost:8080/",
          "height": 503
        },
        "id": "XkLb8LX-qmOV",
        "outputId": "917d56d9-db89-49f5-eccf-3ce93d0c71b2"
      },
      "source": [
        "# Raw signal\n",
        "plt.plot(x)"
      ],
      "execution_count": 7,
      "outputs": [
        {
          "output_type": "execute_result",
          "data": {
            "text/plain": [
              "[<matplotlib.lines.Line2D at 0x7fc901cd2750>]"
            ]
          },
          "metadata": {
            "tags": []
          },
          "execution_count": 7
        },
        {
          "output_type": "display_data",
          "data": {
            "image/png": "[encoded data removed]",
            "text/plain": [
              "<Figure size 864x576 with 1 Axes>"
            ]
          },
          "metadata": {
            "tags": []
          }
        }
      ]
    },
    {
      "cell_type": "code",
      "metadata": {
        "colab": {
          "base_uri": "https://localhost:8080/",
          "height": 503
        },
        "id": "caSxs9PCwGPz",
        "outputId": "9fba0f87-9a35-4cde-d563-3d92e0018935"
      },
      "source": [
        "# Diff of signal\n",
        "plt.plot(x[1:]-x[:-1])"
      ],
      "execution_count": 8,
      "outputs": [
        {
          "output_type": "execute_result",
          "data": {
            "text/plain": [
              "[<matplotlib.lines.Line2D at 0x7fc901c3a610>]"
            ]
          },
          "metadata": {
            "tags": []
          },
          "execution_count": 8
        },
        {
          "output_type": "display_data",
          "data": {
            "image/png": "[encoded data removed]",
            "text/plain": [
              "<Figure size 864x576 with 1 Axes>"
            ]
          },
          "metadata": {
            "tags": []
          }
        }
      ]
    },
    {
      "cell_type": "code",
      "metadata": {
        "colab": {
          "base_uri": "https://localhost:8080/",
          "height": 486
        },
        "id": "0dALovU4wcqj",
        "outputId": "cea806f9-e3fb-474a-8f51-f0f979e623d5"
      },
      "source": [
        "# Rule of thumb to find peaks\n",
        "peaks, _ = find_peaks(x, height= 2*RMS(x)**2 ,distance=2*fs)\n",
        "plt.plot(x)\n",
        "plt.plot(peaks, x[peaks], \"bo\")\n",
        "plt.show()"
      ],
      "execution_count": 10,
      "outputs": [
        {
          "output_type": "display_data",
          "data": {
            "image/png": "[encoded data removed]",
            "text/plain": [
              "<Figure size 864x576 with 1 Axes>"
            ]
          },
          "metadata": {
            "tags": []
          }
        }
      ]
    },
    {
      "cell_type": "code",
      "metadata": {
        "id": "2aK9Rt2fB5Gc"
      },
      "source": [
        "# Gerar samples (com o mesmo tamanho)"
      ],
      "execution_count": 9,
      "outputs": []
    },
    {
      "cell_type": "code",
      "metadata": {
        "id": "_ZHLPfgdCk4c"
      },
      "source": [
        ""
      ],
      "execution_count": null,
      "outputs": []
    }
  ]
}